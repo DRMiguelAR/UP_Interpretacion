{
 "cells": [
  {
   "cell_type": "code",
   "execution_count": 8,
   "metadata": {
    "collapsed": true
   },
   "outputs": [],
   "source": [
    "import numpy as np\n",
    "import cv2\n",
    "from matplotlib import pyplot as plt\n",
    "\n",
    "img1 = cv2.imread('pollos01.png')          # queryImage\n",
    "gray1= cv2.cvtColor(img1,cv2.COLOR_BGR2GRAY)\n",
    "\n",
    "img2 = cv2.imread('pollos03.png') # trainImage\n",
    "gray2= cv2.cvtColor(img2,cv2.COLOR_BGR2GRAY)\n",
    "\n",
    "# Detector SIFT\n",
    "sift = cv2.xfeatures2d.SIFT_create()\n",
    "#sift = cv2.ORB_create()\n",
    "\n",
    "# Encontrar puntos clave y descriptores\n",
    "kp1, des1 = sift.detectAndCompute(gray1,None)\n",
    "kp2, des2 = sift.detectAndCompute(gray2,None)"
   ]
  },
  {
   "cell_type": "code",
   "execution_count": 9,
   "metadata": {},
   "outputs": [
    {
     "data": {
      "text/plain": [
       "True"
      ]
     },
     "execution_count": 9,
     "metadata": {},
     "output_type": "execute_result"
    }
   ],
   "source": [
    "# Emparejador\n",
    "bf = cv2.BFMatcher()\n",
    "matches = bf.knnMatch(des1,des2, k=2)\n",
    "\n",
    "# Aplicar cociente de matching\n",
    "good = []\n",
    "for m,n in matches:\n",
    "    if m.distance < 0.6*n.distance:\n",
    "        good.append([m])\n",
    "\n",
    "# cv2.drawMatchesKnn dibuja el resultado\n",
    "img3 = cv2.drawMatchesKnn(img1,kp1,img2,kp2,good,None,flags=2)\n",
    "\n",
    "cv2.imwrite('matchingPollos.jpg',img3)"
   ]
  },
  {
   "cell_type": "markdown",
   "metadata": {},
   "source": [
    "![matches](./matchingPollos.jpg)"
   ]
  },
  {
   "cell_type": "code",
   "execution_count": null,
   "metadata": {
    "collapsed": true
   },
   "outputs": [],
   "source": []
  }
 ],
 "metadata": {
  "kernelspec": {
   "display_name": "Python 3",
   "language": "python",
   "name": "python3"
  },
  "language_info": {
   "codemirror_mode": {
    "name": "ipython",
    "version": 3
   },
   "file_extension": ".py",
   "mimetype": "text/x-python",
   "name": "python",
   "nbconvert_exporter": "python",
   "pygments_lexer": "ipython3",
   "version": "3.6.2"
  }
 },
 "nbformat": 4,
 "nbformat_minor": 2
}
