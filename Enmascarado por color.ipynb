{
 "cells": [
  {
   "cell_type": "markdown",
   "metadata": {},
   "source": [
    "# Enmascarado por color\n",
    "\n",
    "En este ejercicio trabajaremos sobre el espacio de color HSV para crear una máscara que sólo deje pasar el color azul."
   ]
  },
  {
   "cell_type": "markdown",
   "metadata": {},
   "source": [
    "Primero importamos las librerías correspondientes. Estas son OpenCV y numpy"
   ]
  },
  {
   "cell_type": "code",
   "execution_count": 2,
   "metadata": {
    "collapsed": true
   },
   "outputs": [],
   "source": [
    "import cv2\n",
    "import numpy as np"
   ]
  },
  {
   "cell_type": "markdown",
   "metadata": {},
   "source": [
    "Ahora crearemos nuestra máscara. Es más sencillo crearla en _HSV_, pues el canal _H_ (Hue) contiene la información de tono. Filtraremos los tonos _H_ en un rango de $[110,130]$. Para la saturación _S_, quitaremos los tonos muy poco saturados $[0,50]$, lo mismo para la intensidad _V_, los tonos oscuros $[0,50]$.<br>\n",
    "Para hacer nuestro filtro, utilizaremos la función _inRange_."
   ]
  },
  {
   "cell_type": "code",
   "execution_count": 4,
   "metadata": {},
   "outputs": [],
   "source": [
    "lower_blue = np.array([110,50,50])\n",
    "upper_blue = np.array([130,255,255])   "
   ]
  },
  {
   "cell_type": "markdown",
   "metadata": {},
   "source": [
    "Después, tratamos de abrir el canal con la cámara. Hay que recordar que por default, la primer cámara que se encuentra está en el canal 0."
   ]
  },
  {
   "cell_type": "code",
   "execution_count": 5,
   "metadata": {},
   "outputs": [],
   "source": [
    "captura = cv2.VideoCapture(0)"
   ]
  },
  {
   "cell_type": "markdown",
   "metadata": {},
   "source": [
    "Por último, analizaremos los frames del video. Cada frame lo cambiaremos a _HSV_. Con esta información, aplicaremos los umbrales de color para calcular qué parte de la imagen se encuentra en el rango (función _inRange_), después aplicaremos la máscara (función *bitwise_and*). <br> \n",
    "Mostraremos tres ventanas: \n",
    "    - Una con la imagen obtenida.\n",
    "    - Una con la máscara calculada\n",
    "    - Una con el resultado de aplicar la máscara al frame."
   ]
  },
  {
   "cell_type": "code",
   "execution_count": 7,
   "metadata": {
    "collapsed": true
   },
   "outputs": [],
   "source": [
    "while(1):\n",
    "    _, frame = captura.read()\n",
    "    # Convertir BGR a HSV\n",
    "    hsv = cv2.cvtColor(frame, cv2.COLOR_BGR2HSV)\n",
    "    mask = cv2.inRange(hsv, lower_blue, upper_blue) \n",
    "    res = cv2.bitwise_and(frame,frame, mask= mask)\n",
    "    cv2.imshow('frame',frame)\n",
    "    cv2.imshow('mascara',mask)\n",
    "    cv2.imshow('resultado',res)\n",
    "    k = cv2.waitKey(5) & 0xFF\n",
    "    if k == 27: #Tecla (Esc)\n",
    "        break\n",
    "cv2.destroyAllWindows()"
   ]
  },
  {
   "cell_type": "markdown",
   "metadata": {},
   "source": [
    "### Ejercicio:\n",
    "Extrae en el resultado, los objetos rojos, verdes y azules simultáneamente."
   ]
  },
  {
   "cell_type": "code",
   "execution_count": null,
   "metadata": {
    "collapsed": true
   },
   "outputs": [],
   "source": []
  }
 ],
 "metadata": {
  "kernelspec": {
   "display_name": "Python 3",
   "language": "python",
   "name": "python3"
  },
  "language_info": {
   "codemirror_mode": {
    "name": "ipython",
    "version": 3
   },
   "file_extension": ".py",
   "mimetype": "text/x-python",
   "name": "python",
   "nbconvert_exporter": "python",
   "pygments_lexer": "ipython3",
   "version": "3.6.1"
  }
 },
 "nbformat": 4,
 "nbformat_minor": 2
}
